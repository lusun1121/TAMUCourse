{
 "cells": [
  {
   "cell_type": "markdown",
   "metadata": {
    "colab_type": "text",
    "id": "BlCiYh3k9RB1"
   },
   "source": [
    "###  **Overview**\n",
    "\n",
    "*   Why using colab?\n",
    "*   loading data and check data\n",
    "*   visulize data using ***matplotlib***\n",
    "*   Perceptron Algorithm with linearly seperable data\n",
    "*   Perceptron Algorithm with Non-linearly separable data\n",
    "*   Numpy\n"
   ]
  },
  {
   "cell_type": "code",
   "execution_count": 3,
   "metadata": {
    "colab": {
     "base_uri": "https://localhost:8080/",
     "height": 484
    },
    "colab_type": "code",
    "executionInfo": {
     "elapsed": 7628,
     "status": "ok",
     "timestamp": 1598633703619,
     "user": {
      "displayName": "Han-Yi Wang",
      "photoUrl": "",
      "userId": "18381791688681991544"
     },
     "user_tz": 300
    },
    "id": "j1u4FSsNvBT-",
    "outputId": "86dd8019-cc0b-4571-a80d-fc3590b6733e"
   },
   "outputs": [
    {
     "ename": "ModuleNotFoundError",
     "evalue": "No module named 'tensorflow'",
     "output_type": "error",
     "traceback": [
      "\u001b[1;31m---------------------------------------------------------------------------\u001b[0m",
      "\u001b[1;31mModuleNotFoundError\u001b[0m                       Traceback (most recent call last)",
      "\u001b[1;32m<ipython-input-3-161a99cea532>\u001b[0m in \u001b[0;36m<module>\u001b[1;34m\u001b[0m\n\u001b[1;32m----> 1\u001b[1;33m \u001b[1;32mfrom\u001b[0m \u001b[0mtensorflow\u001b[0m\u001b[1;33m.\u001b[0m\u001b[0mpython\u001b[0m\u001b[1;33m.\u001b[0m\u001b[0mclient\u001b[0m \u001b[1;32mimport\u001b[0m \u001b[0mdevice_lib\u001b[0m\u001b[1;33m\u001b[0m\u001b[1;33m\u001b[0m\u001b[0m\n\u001b[0m\u001b[0;32m      2\u001b[0m \u001b[0mdevice_lib\u001b[0m\u001b[1;33m.\u001b[0m\u001b[0mlist_local_devices\u001b[0m\u001b[1;33m(\u001b[0m\u001b[1;33m)\u001b[0m\u001b[1;33m\u001b[0m\u001b[1;33m\u001b[0m\u001b[0m\n",
      "\u001b[1;31mModuleNotFoundError\u001b[0m: No module named 'tensorflow'"
     ]
    }
   ],
   "source": [
    "from tensorflow.python.client import device_lib\n",
    "device_lib.list_local_devices()"
   ]
  },
  {
   "cell_type": "markdown",
   "metadata": {
    "colab_type": "text",
    "id": "i-pm2UZAXyFC"
   },
   "source": [
    "# **Loading Data**\n"
   ]
  },
  {
   "cell_type": "markdown",
   "metadata": {
    "colab_type": "text",
    "id": "doDxHSMQ7ZBq"
   },
   "source": [
    "###  **Clone dataset from github**\n",
    "\n",
    "*   Copy data from git:  ***! git clone \"github repo\"***\n",
    "*   \"!\" implies that the line is not a python code but command line script\n",
    "*   List directory contents:  ***ls***\n",
    "*   If you want to look subdirectories recursively:  ***ls -R***\n",
    "*   For more commands, check https://cheatography.com/davechild/cheat-sheets/linux-command-line/"
   ]
  },
  {
   "cell_type": "code",
   "execution_count": 1,
   "metadata": {
    "colab": {
     "base_uri": "https://localhost:8080/",
     "height": 119
    },
    "colab_type": "code",
    "executionInfo": {
     "elapsed": 1361,
     "status": "ok",
     "timestamp": 1598648919933,
     "user": {
      "displayName": "S M Farabi Mahmud",
      "photoUrl": "",
      "userId": "11372571581428372747"
     },
     "user_tz": 300
    },
    "id": "luQ2RcPHX1np",
    "outputId": "b9a814fd-d993-4564-8c2a-bf032f8d5f4b"
   },
   "outputs": [
    {
     "name": "stdout",
     "output_type": "stream",
     "text": [
      "Cloning into 'csce_421_633_s20'...\n",
      "remote: Enumerating objects: 34, done.\u001b[K\n",
      "remote: Counting objects: 100% (34/34), done.\u001b[K\n",
      "remote: Compressing objects: 100% (32/32), done.\u001b[K\n",
      "remote: Total 34 (delta 13), reused 0 (delta 0), pack-reused 0\u001b[K\n",
      "Unpacking objects: 100% (34/34), done.\n"
     ]
    }
   ],
   "source": [
    "! rm -rf csce_421_633_s20/\n",
    "! git clone https://github.com/prafulla77/csce_421_633_s20.git"
   ]
  },
  {
   "cell_type": "code",
   "execution_count": 2,
   "metadata": {
    "colab": {
     "base_uri": "https://localhost:8080/",
     "height": 221
    },
    "colab_type": "code",
    "executionInfo": {
     "elapsed": 1292,
     "status": "ok",
     "timestamp": 1598648919936,
     "user": {
      "displayName": "S M Farabi Mahmud",
      "photoUrl": "",
      "userId": "11372571581428372747"
     },
     "user_tz": 300
    },
    "id": "E71BKY0SdGWs",
    "outputId": "0cbb37ce-465e-4fe6-8539-600d9f9378b0"
   },
   "outputs": [
    {
     "name": "stdout",
     "output_type": "stream",
     "text": [
      ".:\n",
      "csce_421_633_s20  sample_data\n",
      "\n",
      "./csce_421_633_s20:\n",
      "'AD 47537198 07-19.pdf'     hw1_question1_train.csv   README.md\n",
      " cats-dogs-knn.txt\t    hw1_question2_dev.csv     table.pdf\n",
      " cats-dogs-perceptron.txt   hw1_question2_test.csv\n",
      "\n",
      "./sample_data:\n",
      "anscombe.json\t\t      mnist_test.csv\n",
      "california_housing_test.csv   mnist_train_small.csv\n",
      "california_housing_train.csv  README.md\n"
     ]
    }
   ],
   "source": [
    "! ls -R"
   ]
  },
  {
   "cell_type": "code",
   "execution_count": 3,
   "metadata": {
    "colab": {
     "base_uri": "https://localhost:8080/",
     "height": 51
    },
    "colab_type": "code",
    "executionInfo": {
     "elapsed": 1534,
     "status": "ok",
     "timestamp": 1598648920189,
     "user": {
      "displayName": "S M Farabi Mahmud",
      "photoUrl": "",
      "userId": "11372571581428372747"
     },
     "user_tz": 300
    },
    "id": "ENr20fF6dnzT",
    "outputId": "5b606546-2c3b-49a9-945a-1efe824fe7c2"
   },
   "outputs": [
    {
     "name": "stdout",
     "output_type": "stream",
     "text": [
      "/content\n",
      "csce_421_633_s20  sample_data\n"
     ]
    }
   ],
   "source": [
    "! pwd\n",
    "! ls"
   ]
  },
  {
   "cell_type": "markdown",
   "metadata": {
    "colab_type": "text",
    "id": "XxqjWq4ad7af"
   },
   "source": [
    "\n",
    "\n",
    "### **Check data file format**\n",
    "\n",
    "*   Check data format by printing few lines: **head -number_of_lines FileName**\n",
    "\n",
    "\n"
   ]
  },
  {
   "cell_type": "code",
   "execution_count": 4,
   "metadata": {
    "colab": {
     "base_uri": "https://localhost:8080/",
     "height": 731
    },
    "colab_type": "code",
    "executionInfo": {
     "elapsed": 1918,
     "status": "ok",
     "timestamp": 1598648920586,
     "user": {
      "displayName": "S M Farabi Mahmud",
      "photoUrl": "",
      "userId": "11372571581428372747"
     },
     "user_tz": 300
    },
    "id": "anX0bXSUeBLF",
    "outputId": "29e9ddd8-c8c8-4dde-f597-48e8f5255141"
   },
   "outputs": [
    {
     "name": "stdout",
     "output_type": "stream",
     "text": [
      "Height\tWeight\tLabel\n",
      "27\t50\tDog\n",
      "23\t44\tDog\n",
      "25\t85\tDog\n",
      "27\t75\tDog\n",
      "15\t20\tDog\n",
      "23\t55\tDog\n",
      "16\t23\tDog\n",
      "25\t110\tDog\n",
      "27\t45\tDog\n",
      "23\t90\tDog\n",
      "13\t18\tCat\n",
      "8\t13\tCat\n",
      "8.2\t14\tCat\n",
      "6\t10\tCat\n",
      "Height\tWeight\tLabel\n",
      "10\t7\tDog\n",
      "27\t50\tDog\n",
      "23\t44\tDog\n",
      "25\t85\tDog\n",
      "27\t75\tDog\n",
      "15\t20\tDog\n",
      "23\t55\tDog\n",
      "11\t14\tDog\n",
      "16\t23\tDog\n",
      "25\t110\tDog\n",
      "27\t45\tDog\n",
      "23\t90\tDog\n",
      "13\t18\tCat\n",
      "8\t16\tCat\n",
      "8.2\t14\tCat\n",
      "6\t10\tCat\n",
      "7\t11\tCat\n",
      "9.5\t19\tCat\n",
      "12\t14\tCat\n",
      "10\t9\tCat\n",
      "7\t7\tCat\n",
      "7.5\t8\tCat\n",
      "8\t11\tCat\n",
      "15\t25\tCat\n",
      "5\t19\tCat\n",
      "10\t22\tCat\n"
     ]
    }
   ],
   "source": [
    "! head -15 csce_421_633_s20/cats-dogs-perceptron.txt\n",
    "! cat csce_421_633_s20/cats-dogs-knn.txt   # Don't use this for larger files\n"
   ]
  },
  {
   "cell_type": "code",
   "execution_count": 5,
   "metadata": {
    "colab": {
     "base_uri": "https://localhost:8080/",
     "height": 102
    },
    "colab_type": "code",
    "executionInfo": {
     "elapsed": 1908,
     "status": "ok",
     "timestamp": 1598648920588,
     "user": {
      "displayName": "S M Farabi Mahmud",
      "photoUrl": "",
      "userId": "11372571581428372747"
     },
     "user_tz": 300
    },
    "id": "-AaxlGCJW7Pi",
    "outputId": "69fef22f-faa2-4665-e1a7-88ab5070fa5c"
   },
   "outputs": [
    {
     "name": "stdout",
     "output_type": "stream",
     "text": [
      "\"longitude\",\"latitude\",\"housing_median_age\",\"total_rooms\",\"total_bedrooms\",\"population\",\"households\",\"median_income\",\"median_house_value\"\n",
      "-122.050000,37.370000,27.000000,3885.000000,661.000000,1537.000000,606.000000,6.608500,344700.000000\n",
      "-118.300000,34.260000,43.000000,1510.000000,310.000000,809.000000,277.000000,3.599000,176500.000000\n",
      "-117.810000,33.780000,27.000000,3589.000000,507.000000,1484.000000,495.000000,5.793400,270500.000000\n",
      "-118.360000,33.820000,28.000000,67.000000,15.000000,49.000000,11.000000,6.135900,330000.000000\n"
     ]
    }
   ],
   "source": [
    "! head -5 sample_data/california_housing_test.csv"
   ]
  },
  {
   "cell_type": "markdown",
   "metadata": {
    "colab_type": "text",
    "id": "QVhoNFU47obS"
   },
   "source": [
    "### **Parse data file**\n",
    "\n",
    "*   Recommended to define ***Class*** to group data and methods (makes your code easy to update and understand)\n",
    "*   Define a class for datapoint"
   ]
  },
  {
   "cell_type": "code",
   "execution_count": 6,
   "metadata": {
    "colab": {},
    "colab_type": "code",
    "executionInfo": {
     "elapsed": 1904,
     "status": "ok",
     "timestamp": 1598648920590,
     "user": {
      "displayName": "S M Farabi Mahmud",
      "photoUrl": "",
      "userId": "11372571581428372747"
     },
     "user_tz": 300
    },
    "id": "bUmHiIUMvUhq"
   },
   "outputs": [],
   "source": [
    "import numpy as np\n",
    "\n",
    "\n",
    "class DataPoint(object):\n",
    "\n",
    "  def __init__(self, feats):\n",
    "    \"\"\"\n",
    "    Return a Datapoint object whose attributes are given by \"feats\"\n",
    "    \"\"\"\n",
    "    self.height = feats['height']\n",
    "    self.weight = feats['weight']\n",
    "    self.label = feats['label']\n",
    "\n",
    "  def feature_vector(self):\n",
    "    \"\"\"\n",
    "    Return feature vector as a numpy array\n",
    "    \"\"\"\n",
    "    return np.array([self.height, self.weight])\n",
    "\n",
    "  def feature_vector_with_bias(self):\n",
    "    \"\"\"\n",
    "    Return features with 1 appended at the end\n",
    "    We 'absorb' bias (b) into the feature vector w by adding one additional constant dimension\n",
    "    y = wx + b becomes y = w'x' where x' = [x; 1] and w' = [w; b] \n",
    "    \"\"\"\n",
    "    return np.array([self.height, self.weight, 1.])\n",
    "\n",
    "  def __str__(self):\n",
    "    \"\"\"\n",
    "    print(object) uses this method\n",
    "    Define it in the way you want to see the object (e.g. Height:27.0, Weight:50.0, Label:1)\n",
    "    \"\"\"\n",
    "    return \"Height:{}, Weight:{}, Label:{}\".format(self.height, self.weight, self.label)\n"
   ]
  },
  {
   "cell_type": "markdown",
   "metadata": {
    "colab_type": "text",
    "id": "9q3l2airONNu"
   },
   "source": [
    "*   Parse the data file"
   ]
  },
  {
   "cell_type": "code",
   "execution_count": 7,
   "metadata": {
    "colab": {
     "base_uri": "https://localhost:8080/",
     "height": 51
    },
    "colab_type": "code",
    "executionInfo": {
     "elapsed": 1895,
     "status": "ok",
     "timestamp": 1598648920592,
     "user": {
      "displayName": "S M Farabi Mahmud",
      "photoUrl": "",
      "userId": "11372571581428372747"
     },
     "user_tz": 300
    },
    "id": "6Dx4H-XCN-ee",
    "outputId": "6cae3891-10ef-44d9-f004-ed254ddc6db2"
   },
   "outputs": [
    {
     "name": "stdout",
     "output_type": "stream",
     "text": [
      "Total Number of Data Points: 24\n",
      "Examples: 1 - Height:27.0, Weight:50.0, Label:1 , 2 - Height:10.0, Weight:22.0, Label:-1\n"
     ]
    }
   ],
   "source": [
    "def parse_dataset(filename):\n",
    "  data_file = open(filename, 'r')  # Open File \"to read\"\n",
    "  dataset = []  # List to hold Datapoint objects\n",
    "  label_map = {'Cat': -1, 'Dog': 1}  # Since we will be using \"Perceptron\", we need to define labels as -1/1. \n",
    "\n",
    "  for index, line in enumerate(data_file):\n",
    "    if index == 0:  # First line: \"Height\tWeight\tLabel\" describes the datapoint, it's not an actual datapoint, \n",
    "      continue  # do nothing, it will skip all the following lines \n",
    "    height, weight, label = line.strip().split('\\t')  # strip() removes '\\n', and split('\\t') splits the line at tabs\n",
    "    dataset.append(DataPoint({'height':float(height), 'weight':float(weight), 'label':label_map[label]}))  # Create DataPoint object for the given data\n",
    "\n",
    "  print(\"Total Number of Data Points: {0}\".format(len(dataset)))\n",
    "  print(\"Examples: 1 - {0} , 2 - {1}\".format(dataset[0], dataset[-1]))\n",
    "  return dataset\n",
    "\n",
    "\n",
    "dataset = parse_dataset('csce_421_633_s20/cats-dogs-perceptron.txt')  # Returns the list of datapoints"
   ]
  },
  {
   "cell_type": "markdown",
   "metadata": {
    "colab_type": "text",
    "id": "WOlEi-bCzITV"
   },
   "source": [
    "# **Visualizing Dataset**\n",
    "\n",
    "*   We can use ***matplotlib.pyplot*** to build interactive plots\n",
    "*   Check https://matplotlib.org/users/pyplot_tutorial.html to see introductory examples for different types of plots."
   ]
  },
  {
   "cell_type": "markdown",
   "metadata": {
    "colab_type": "text",
    "id": "RZbgoOOPIe2P"
   },
   "source": [
    "### ***Examples***"
   ]
  },
  {
   "cell_type": "code",
   "execution_count": null,
   "metadata": {
    "colab": {
     "base_uri": "https://localhost:8080/",
     "height": 279
    },
    "colab_type": "code",
    "executionInfo": {
     "elapsed": 9390,
     "status": "ok",
     "timestamp": 1598633705519,
     "user": {
      "displayName": "Han-Yi Wang",
      "photoUrl": "",
      "userId": "18381791688681991544"
     },
     "user_tz": 300
    },
    "id": "MzGX01ovMa3n",
    "outputId": "124d5f6c-6c43-4d53-b7df-d1a8cc575854"
   },
   "outputs": [
    {
     "data": {
      "image/png": "[encoded data removed]",
      "text/plain": [
       "<Figure size 432x288 with 1 Axes>"
      ]
     },
     "metadata": {
      "needs_background": "light",
      "tags": []
     },
     "output_type": "display_data"
    }
   ],
   "source": [
    "import matplotlib.pyplot as plot\n",
    "\n",
    "\n",
    "t = np.arange(0., 5., 0.2)  # [0.0, 0.2, 0.4, ......, 4.8]\n",
    "\n",
    "plot.plot(t, t, 'r', label=\"y=x\")  # red (y=x),\n",
    "plot.plot(t, t**2, 'b', label=\"y=x^2\")  # blue (y=x^2),\n",
    "plot.plot(t, t**3, 'g', label=\"y=x^3\")  # green (y=x^3),\n",
    "plot.xlabel(\"x\")  # label: x axis\n",
    "plot.ylabel(\"y\")  # label: y axis\n",
    "plot.legend()  # to show legend\n",
    "plot.show()"
   ]
  },
  {
   "cell_type": "markdown",
   "metadata": {
    "colab_type": "text",
    "id": "ikrnX4cuFqKu"
   },
   "source": [
    "### ***Scatter Plot: Datapoints***\n",
    "\n",
    "*   Shows the data as a collection of points\n",
    "*   Position of a point depends on its attributes' values, where each value is a position on one axis."
   ]
  },
  {
   "cell_type": "code",
   "execution_count": null,
   "metadata": {
    "colab": {
     "base_uri": "https://localhost:8080/",
     "height": 279
    },
    "colab_type": "code",
    "executionInfo": {
     "elapsed": 9512,
     "status": "ok",
     "timestamp": 1598633705657,
     "user": {
      "displayName": "Han-Yi Wang",
      "photoUrl": "",
      "userId": "18381791688681991544"
     },
     "user_tz": 300
    },
    "id": "h5iCyCDrzHMx",
    "outputId": "765b6940-3cd7-4e59-9459-5c3bc3944935"
   },
   "outputs": [
    {
     "data": {
      "image/png": "[encoded data removed]",
      "text/plain": [
       "<Figure size 432x288 with 1 Axes>"
      ]
     },
     "metadata": {
      "needs_background": "light",
      "tags": []
     },
     "output_type": "display_data"
    }
   ],
   "source": [
    "\n",
    "def plot_data(dataset):\n",
    "  cat_heights = [data.height for data in dataset if data.label == -1]  # List: heights of cats \n",
    "  cat_weights = [data.weight for data in dataset if data.label == -1]  # List: weights of cats\n",
    "\n",
    "  dog_heights = [data.height for data in dataset if data.label == 1]  # List: heights of dogs \n",
    "  dog_weights = [data.weight for data in dataset if data.label == 1]  # List: weights of dogs \n",
    "\n",
    "  plot.scatter(cat_heights, cat_weights, c='b', marker='x', label='Cat')  # put points corresponding to cats, b: blue colored, x: marked with 'x'\n",
    "  plot.scatter(dog_heights, dog_weights, c='r', marker='o', label='Dog')  # put points corresponding to dogs, r: red colored, o: marked with 'o'\n",
    "\n",
    "  plot.xlabel(\"Heights\")\n",
    "  plot.ylabel(\"Weights\")\n",
    "  plot.legend()\n",
    "  plot.show()\n",
    "\n",
    "\n",
    "plot_data(dataset)"
   ]
  },
  {
   "cell_type": "markdown",
   "metadata": {
    "colab_type": "text",
    "id": "vEoALJleFAvj"
   },
   "source": [
    "# **Perceptron Algorithm**\n",
    "\n",
    "***Assumes:*** Datapoints are linearly separable\n"
   ]
  },
  {
   "cell_type": "markdown",
   "metadata": {
    "colab_type": "text",
    "id": "AbgS-iZtO7DV"
   },
   "source": [
    "### ***Pseudo-code***\n",
    "\n",
    "\n",
    "```\n",
    "# Perceptron Algorithm Pseudo Code\n",
    "1. W = 0\n",
    "2. while True:\n",
    "3.   m = 0\n",
    "4.   for (x,y) in D\n",
    "5.    if y.(W'x) <= 0\n",
    "6.      W <- W + y.x\n",
    "7.      m <- m+1\n",
    "8.  if m == 0\n",
    "9.    break\n",
    "```"
   ]
  },
  {
   "cell_type": "markdown",
   "metadata": {
    "colab_type": "text",
    "id": "C5LX2r3pPQEc"
   },
   "source": [
    "### ***Perceptron: Code***\n",
    "*    Just like DataPoints, we will define a ***Perceptron*** class."
   ]
  },
  {
   "cell_type": "code",
   "execution_count": null,
   "metadata": {
    "colab": {},
    "colab_type": "code",
    "id": "Ze2KfgOfPYvh"
   },
   "outputs": [],
   "source": [
    "class Perceptron(object):\n",
    "\n",
    "  def __init__(self, feature_dim=3):\n",
    "    \"\"\"\n",
    "    Return a Perceptron classifier object with parameters initialized to 0 vector.\n",
    "    \"\"\"\n",
    "    self.w = np.zeros(feature_dim)  # Intialize: parameters as zero vector\n",
    "\n",
    "  def train(self, datapoints, max_iterations=20000):\n",
    "    \"\"\"\n",
    "    Train the Perceptron classifier object until convergence or max_iterations.\n",
    "    Return: A list containing losses (=number of misclassified datapoints) for each iteration\n",
    "    \"\"\"\n",
    "    losses = []  # Store loss at each iteration \n",
    "    iteration = 0  # Initialize: iteration = 0\n",
    "    while True:\n",
    "      m = 0  # m: store number of mis-classified datapoints\n",
    "      for datapoint in datapoints:  # iterate through each data point\n",
    "        if datapoint.label*self.w.dot(datapoint.feature_vector_with_bias()) <= 0:  # if data point is misclassified\n",
    "          self.w = self.w+datapoint.label*datapoint.feature_vector_with_bias()  # update the weight\n",
    "          m = m+1  # increment m by 1\n",
    "      losses.append(m)  # append \n",
    "      \n",
    "\n",
    "      \n",
    "      if m == 0:\n",
    "        # All points were correctly classified\n",
    "        print('Finished training in {0} Iterations'.format(iteration))\n",
    "        break\n",
    "      if iteration > max_iterations:\n",
    "        # m is not 0, some points are still miss-classified\n",
    "        print(\"Couldn't find solution after {0} iterations\".format(max_iterations))\n",
    "        break\n",
    "      iteration = iteration + 1  # after going through all the datapoints, icrement the iteration by 1\n",
    "      \n",
    "    return losses  # return losses\n",
    "\n",
    "  def predict(self, datapoints):\n",
    "    \"\"\"\n",
    "    Return: Predictions on the new datapoints\n",
    "    \"\"\"\n",
    "    return datapoints.dot(self.w)"
   ]
  },
  {
   "cell_type": "code",
   "execution_count": null,
   "metadata": {
    "colab": {
     "base_uri": "https://localhost:8080/",
     "height": 1000
    },
    "colab_type": "code",
    "executionInfo": {
     "elapsed": 13661,
     "status": "ok",
     "timestamp": 1598633709824,
     "user": {
      "displayName": "Han-Yi Wang",
      "photoUrl": "",
      "userId": "18381791688681991544"
     },
     "user_tz": 300
    },
    "id": "FyEPVvALRx_y",
    "outputId": "c49da438-c796-4d18-accd-c609cea0a7f8"
   },
   "outputs": [
    {
     "name": "stdout",
     "output_type": "stream",
     "text": [
      "Couldn't find solution after 50 iterations\n",
      "--------------------------------\n",
      "The decision boundary at max 50 iterations\n"
     ]
    },
    {
     "name": "stderr",
     "output_type": "stream",
     "text": [
      "/usr/local/lib/python3.6/dist-packages/ipykernel_launcher.py:43: UserWarning: No contour levels were found within the data range.\n"
     ]
    },
    {
     "data": {
      "image/png": "[encoded data removed]",
      "text/plain": [
       "<Figure size 432x288 with 1 Axes>"
      ]
     },
     "metadata": {
      "needs_background": "light",
      "tags": []
     },
     "output_type": "display_data"
    },
    {
     "name": "stdout",
     "output_type": "stream",
     "text": [
      "Couldn't find solution after 100 iterations\n",
      "--------------------------------\n",
      "The decision boundary at max 100 iterations\n"
     ]
    },
    {
     "data": {
      "image/png": "[encoded data removed]",
      "text/plain": [
       "<Figure size 432x288 with 1 Axes>"
      ]
     },
     "metadata": {
      "needs_background": "light",
      "tags": []
     },
     "output_type": "display_data"
    },
    {
     "name": "stdout",
     "output_type": "stream",
     "text": [
      "Couldn't find solution after 150 iterations\n",
      "--------------------------------\n",
      "The decision boundary at max 150 iterations\n"
     ]
    },
    {
     "data": {
      "image/png": "[encoded data removed]",
      "text/plain": [
       "<Figure size 432x288 with 1 Axes>"
      ]
     },
     "metadata": {
      "needs_background": "light",
      "tags": []
     },
     "output_type": "display_data"
    },
    {
     "name": "stdout",
     "output_type": "stream",
     "text": [
      "Couldn't find solution after 200 iterations\n",
      "--------------------------------\n",
      "The decision boundary at max 200 iterations\n"
     ]
    },
    {
     "data": {
      "image/png": "[encoded data removed]",
      "text/plain": [
       "<Figure size 432x288 with 1 Axes>"
      ]
     },
     "metadata": {
      "needs_background": "light",
      "tags": []
     },
     "output_type": "display_data"
    },
    {
     "name": "stdout",
     "output_type": "stream",
     "text": [
      "Couldn't find solution after 250 iterations\n",
      "--------------------------------\n",
      "The decision boundary at max 250 iterations\n"
     ]
    },
    {
     "data": {
      "image/png": "[encoded data removed]",
      "text/plain": [
       "<Figure size 432x288 with 1 Axes>"
      ]
     },
     "metadata": {
      "needs_background": "light",
      "tags": []
     },
     "output_type": "display_data"
    },
    {
     "name": "stdout",
     "output_type": "stream",
     "text": [
      "Couldn't find solution after 300 iterations\n",
      "--------------------------------\n",
      "The decision boundary at max 300 iterations\n"
     ]
    },
    {
     "data": {
      "image/png": "[encoded data removed]",
      "text/plain": [
       "<Figure size 432x288 with 1 Axes>"
      ]
     },
     "metadata": {
      "needs_background": "light",
      "tags": []
     },
     "output_type": "display_data"
    },
    {
     "name": "stdout",
     "output_type": "stream",
     "text": [
      "Couldn't find solution after 350 iterations\n",
      "--------------------------------\n",
      "The decision boundary at max 350 iterations\n"
     ]
    },
    {
     "data": {
      "image/png": "[encoded data removed]",
      "text/plain": [
       "<Figure size 432x288 with 1 Axes>"
      ]
     },
     "metadata": {
      "needs_background": "light",
      "tags": []
     },
     "output_type": "display_data"
    },
    {
     "name": "stdout",
     "output_type": "stream",
     "text": [
      "Couldn't find solution after 400 iterations\n",
      "--------------------------------\n",
      "The decision boundary at max 400 iterations\n"
     ]
    },
    {
     "data": {
      "image/png": "[encoded data removed]",
      "text/plain": [
       "<Figure size 432x288 with 1 Axes>"
      ]
     },
     "metadata": {
      "needs_background": "light",
      "tags": []
     },
     "output_type": "display_data"
    },
    {
     "name": "stdout",
     "output_type": "stream",
     "text": [
      "Couldn't find solution after 450 iterations\n",
      "--------------------------------\n",
      "The decision boundary at max 450 iterations\n"
     ]
    },
    {
     "data": {
      "image/png": "[encoded data removed]",
      "text/plain": [
       "<Figure size 432x288 with 1 Axes>"
      ]
     },
     "metadata": {
      "needs_background": "light",
      "tags": []
     },
     "output_type": "display_data"
    },
    {
     "name": "stdout",
     "output_type": "stream",
     "text": [
      "Couldn't find solution after 500 iterations\n",
      "--------------------------------\n",
      "The decision boundary at max 500 iterations\n"
     ]
    },
    {
     "data": {
      "image/png": "[encoded data removed]",
      "text/plain": [
       "<Figure size 432x288 with 1 Axes>"
      ]
     },
     "metadata": {
      "needs_background": "light",
      "tags": []
     },
     "output_type": "display_data"
    },
    {
     "name": "stdout",
     "output_type": "stream",
     "text": [
      "Couldn't find solution after 550 iterations\n",
      "--------------------------------\n",
      "The decision boundary at max 550 iterations\n"
     ]
    },
    {
     "data": {
      "image/png": "[encoded data removed]",
      "text/plain": [
       "<Figure size 432x288 with 1 Axes>"
      ]
     },
     "metadata": {
      "needs_background": "light",
      "tags": []
     },
     "output_type": "display_data"
    },
    {
     "name": "stdout",
     "output_type": "stream",
     "text": [
      "Finished training in 568 Iterations\n",
      "--------------------------------\n",
      "The decision boundary at max 600 iterations\n"
     ]
    },
    {
     "data": {
      "image/png": "[encoded data removed]",
      "text/plain": [
       "<Figure size 432x288 with 1 Axes>"
      ]
     },
     "metadata": {
      "needs_background": "light",
      "tags": []
     },
     "output_type": "display_data"
    },
    {
     "name": "stdout",
     "output_type": "stream",
     "text": [
      "Plotting Losses\n"
     ]
    },
    {
     "data": {
      "image/png": "[encoded data removed]",
      "text/plain": [
       "<Figure size 432x288 with 1 Axes>"
      ]
     },
     "metadata": {
      "needs_background": "light",
      "tags": []
     },
     "output_type": "display_data"
    }
   ],
   "source": [
    "def plot_current(model, dataset, kNN=False):\n",
    "\n",
    "  cat_heights = np.array([data.height for data in dataset if data.label == -1])  # Numpy array: heights of cats \n",
    "  cat_weights = np.array([data.weight for data in dataset if data.label == -1])  # Numpy array: weights of cats\n",
    "\n",
    "  dog_heights = np.array([data.height for data in dataset if data.label == 1])  # Numpy array: heights of dogs \n",
    "  dog_weights = np.array([data.weight for data in dataset if data.label == 1])  # Numpy array: weights of dogs \n",
    "\n",
    "  x_min, x_max = min(cat_heights.min(), dog_heights.min())-1., max(cat_heights.max(), dog_heights.max())+1.  # Find minimum and maximum values for cat's height and weight\n",
    "  y_min, y_max = min(cat_weights.min(), dog_weights.min())-1., max(cat_weights.max(), dog_weights.max())+1.  # Find minimum and maximum values for dog's height and weight\n",
    "\n",
    "  \"\"\"\n",
    "  np.meshgrid(x1, x2): Return coordinate matrices from coordinate vectors\n",
    "  Example: x1 = [1,2,3,4], x2=[1,2,3,4]\n",
    "           output: [[1, 2, 3, 4],    and    [[1, 1, 1, 1],\n",
    "                    [1, 2, 3, 4],            [2, 2, 2, 2],\n",
    "                    [1, 2, 3, 4],            [3, 3, 3, 3],\n",
    "                    [1, 2, 3, 4]]            [4, 4, 4, 4]]\n",
    "          \n",
    "  You can see this as  [[(1,1), (2,1), (3,1), (4,1)],\n",
    "                        [(1,2), (2,2), (3,2), (4,2)],\n",
    "                        [(1,3), (2,3), (3,3), (4,3)],\n",
    "                        [(1,4), (2,4), (3,4), (4,4)]]\n",
    "  \"\"\"\n",
    "  xx, yy = np.meshgrid(np.arange(x_min, x_max, 0.2), np.arange(y_min, y_max, 0.2))\n",
    "\n",
    "  \"\"\"\n",
    "  xx.reshape(-1,1) transforms this to a column vector\n",
    "  Example: x1 = [[1,2], [3,4]]\n",
    "           out = [[1],[2],[3],[4]]\n",
    "  \"\"\"\n",
    "\n",
    "  # Concatenate the xx and yy vector to obtain 2-d features\n",
    "  if kNN:\n",
    "    Z = np.concatenate((xx.reshape(-1, 1), yy.reshape(-1, 1)), axis=1)  # kNN doesn't require bias term\n",
    "  else:\n",
    "    Z = np.concatenate((xx.reshape(-1, 1), yy.reshape(-1, 1), np.ones(xx.reshape(-1, 1).shape)), axis=1)  # append 1 for the bias term\n",
    "  Z = model.predict(Z)  # Use model to predict on datapoints Z\n",
    "  Z = Z > 0  # Find their class, returns 1 if prediction > 0 \n",
    "  Z = Z.reshape(xx.shape)  # transform this back to the shape of xx (2d matrix) \n",
    "\n",
    "  plot.contourf(xx, yy, Z, alpha=0.5)  # draw filled contours\n",
    "  plot.contour(xx, yy, Z, linewidths=0.7)  # Plot contour line aka decision boundary \n",
    "  # put points corresponding to cats, b: blue colored, x: marked with 'x'\n",
    "  plot.scatter(cat_heights, cat_weights, c='b', marker='x', label='Cat') \n",
    "  # put points corresponding to dogs, r: red colored, o: marked with 'o'\n",
    "  plot.scatter(dog_heights, dog_weights, c='r', marker='o', label='Dog')  \n",
    "\n",
    "  plot.xlabel(\"Heights\")\n",
    "  plot.ylabel(\"Weights\")\n",
    "  plot.legend()\n",
    "\n",
    "  plot.show()\n",
    "\n",
    "for i in range(1, 13):\n",
    "  max_iteration = i*50\n",
    "  perceptron_classifier = Perceptron(3) # create a perceptron object\n",
    "  losses = perceptron_classifier.train(dataset, max_iteration)\n",
    "  print(\"--------------------------------\")\n",
    "  print(\"The decision boundary at max {} iterations\".format(max_iteration))\n",
    "  plot_current(perceptron_classifier, dataset)\n",
    "\n",
    "\n",
    "print(\"Plotting Losses\")\n",
    "plot.plot(losses)  # Plot losses\n",
    "plot.show()"
   ]
  },
  {
   "cell_type": "code",
   "execution_count": null,
   "metadata": {
    "colab": {
     "base_uri": "https://localhost:8080/",
     "height": 282
    },
    "colab_type": "code",
    "executionInfo": {
     "elapsed": 13741,
     "status": "ok",
     "timestamp": 1598633709920,
     "user": {
      "displayName": "Han-Yi Wang",
      "photoUrl": "",
      "userId": "18381791688681991544"
     },
     "user_tz": 300
    },
    "id": "iCq2dGOrB3Mf",
    "outputId": "91559ae6-85dd-4439-f253-15c2dce20c76"
   },
   "outputs": [
    {
     "name": "stdout",
     "output_type": "stream",
     "text": [
      "Plotting sampled Losses\n"
     ]
    },
    {
     "data": {
      "image/png": "[encoded data removed]",
      "text/plain": [
       "<Figure size 432x288 with 1 Axes>"
      ]
     },
     "metadata": {
      "needs_background": "light",
      "tags": []
     },
     "output_type": "display_data"
    }
   ],
   "source": [
    "\"\"\"\n",
    "Plotting sampled losses:\n",
    "Starting from the end, sample every 1000th loss term\n",
    "This allows us to see the loss in last iteration, \n",
    "which should be 0 if the model has converged\n",
    "\"\"\"\n",
    "sampled_loss, iteration = [], []\n",
    "# losses[::-1] traverse list in reverse order\n",
    "# enumerate(list) allows us to loop over the list with an automatic counter\n",
    "for index, loss in enumerate(losses[::-1]):\n",
    "  if index%50 == 0:\n",
    "    sampled_loss.append(loss)\n",
    "    iteration.append(len(losses)-index)\n",
    "\n",
    "print(\"Plotting sampled Losses\")\n",
    "plot.plot(iteration, sampled_loss)  # Plot losses\n",
    "plot.show()"
   ]
  },
  {
   "cell_type": "markdown",
   "metadata": {
    "colab_type": "text",
    "id": "HY2O_aNjs7wX"
   },
   "source": [
    "# **Non-linearly separable data**\n",
    "\n",
    "*    Perceptron assumes that data points are linearly separable\n",
    "*    If data points are not linearly separable, perceptron will run for ever but will never stop/ converge."
   ]
  },
  {
   "cell_type": "code",
   "execution_count": null,
   "metadata": {
    "colab": {
     "base_uri": "https://localhost:8080/",
     "height": 893
    },
    "colab_type": "code",
    "executionInfo": {
     "elapsed": 16419,
     "status": "ok",
     "timestamp": 1598633712612,
     "user": {
      "displayName": "Han-Yi Wang",
      "photoUrl": "",
      "userId": "18381791688681991544"
     },
     "user_tz": 300
    },
    "id": "evZy9hEctDO0",
    "outputId": "3546c61b-ca1f-4afb-9ebc-7b8ffb3991ef"
   },
   "outputs": [
    {
     "name": "stdout",
     "output_type": "stream",
     "text": [
      "Total Number of Data Points: 26\n",
      "Examples: 1 - Height:10.0, Weight:7.0, Label:1 , 2 - Height:10.0, Weight:22.0, Label:-1\n"
     ]
    },
    {
     "data": {
      "image/png": "[encoded data removed]",
      "text/plain": [
       "<Figure size 432x288 with 1 Axes>"
      ]
     },
     "metadata": {
      "needs_background": "light",
      "tags": []
     },
     "output_type": "display_data"
    },
    {
     "name": "stdout",
     "output_type": "stream",
     "text": [
      "Couldn't find solution after 20000 iterations\n",
      "--------------------------------\n",
      "Plotting final decision boundary\n"
     ]
    },
    {
     "data": {
      "image/png": "[encoded data removed]",
      "text/plain": [
       "<Figure size 432x288 with 1 Axes>"
      ]
     },
     "metadata": {
      "needs_background": "light",
      "tags": []
     },
     "output_type": "display_data"
    },
    {
     "name": "stdout",
     "output_type": "stream",
     "text": [
      "Plotting Losses\n"
     ]
    },
    {
     "data": {
      "image/png": "[encoded data removed]",
      "text/plain": [
       "<Figure size 432x288 with 1 Axes>"
      ]
     },
     "metadata": {
      "needs_background": "light",
      "tags": []
     },
     "output_type": "display_data"
    }
   ],
   "source": [
    "dataset = parse_dataset('csce_421_633_s20/cats-dogs-knn.txt') \n",
    "plot_data(dataset)\n",
    "\n",
    "perceptron_classifier = Perceptron(3)\n",
    "losses = perceptron_classifier.train(dataset, 20000)\n",
    "\n",
    "print(\"--------------------------------\")\n",
    "print(\"Plotting final decision boundary\")\n",
    "plot_current(perceptron_classifier, dataset)\n",
    "\n",
    "print(\"Plotting Losses\")\n",
    "plot.plot(losses)\n",
    "plot.show()"
   ]
  },
  {
   "cell_type": "markdown",
   "metadata": {
    "colab_type": "text",
    "id": "Z4SSHKJuzKG5"
   },
   "source": [
    "# **Numpy**\n",
    "\n",
    "*    Package for vector and matrix operations\n",
    "*    Extremely optimized for speed (efficient memory representation and low-level machine instructions)\n",
    "*    Ndarray: Most important structure\n",
    "*    Refer to the documentations (https://docs.scipy.org/doc/numpy-1.17.0/reference/) for further details"
   ]
  },
  {
   "cell_type": "code",
   "execution_count": null,
   "metadata": {
    "colab": {
     "base_uri": "https://localhost:8080/",
     "height": 207
    },
    "colab_type": "code",
    "executionInfo": {
     "elapsed": 16408,
     "status": "ok",
     "timestamp": 1598633712613,
     "user": {
      "displayName": "Han-Yi Wang",
      "photoUrl": "",
      "userId": "18381791688681991544"
     },
     "user_tz": 300
    },
    "id": "LMMsrnUTz0hp",
    "outputId": "19a54350-67a1-4518-c6ad-3c6b0bea9804"
   },
   "outputs": [
    {
     "name": "stdout",
     "output_type": "stream",
     "text": [
      "[[0.28861598 0.89361428 0.8481942  0.61181184]\n",
      " [0.44258171 0.83156136 0.52214321 0.57000165]\n",
      " [0.99693677 0.78555555 0.79255639 0.372732  ]\n",
      " [0.09321245 0.24680344 0.58310609 0.43463111]\n",
      " [0.45951734 0.59046531 0.7106673  0.40087195]]\n",
      "[[0. 0.]\n",
      " [0. 0.]\n",
      " [0. 0.]\n",
      " [0. 0.]]\n",
      "[1. 1. 1. 1.]\n",
      "(5, 4) (4,)\n"
     ]
    }
   ],
   "source": [
    "import numpy as np\n",
    "a = np.random.rand(5,4)  # Create matrix of shape (5,4) filled with rando values\n",
    "print(a)\n",
    "b = np.ones(4)   # Create vectors of 1s\n",
    "print(np.zeros((4,2)))\n",
    "print(b)\n",
    "print(a.shape, b.shape)  # Check shape of arrays"
   ]
  },
  {
   "cell_type": "code",
   "execution_count": null,
   "metadata": {
    "colab": {
     "base_uri": "https://localhost:8080/",
     "height": 104
    },
    "colab_type": "code",
    "executionInfo": {
     "elapsed": 16397,
     "status": "ok",
     "timestamp": 1598633712615,
     "user": {
      "displayName": "Han-Yi Wang",
      "photoUrl": "",
      "userId": "18381791688681991544"
     },
     "user_tz": 300
    },
    "id": "v-BsH3kP2ABx",
    "outputId": "b16af5d5-8c5b-47e9-ac20-1ddf9a09ce71"
   },
   "outputs": [
    {
     "name": "stdout",
     "output_type": "stream",
     "text": [
      "[[1.28861598 1.89361428 1.8481942  1.61181184]\n",
      " [1.44258171 1.83156136 1.52214321 1.57000165]\n",
      " [1.99693677 1.78555555 1.79255639 1.372732  ]\n",
      " [1.09321245 1.24680344 1.58310609 1.43463111]\n",
      " [1.45951734 1.59046531 1.7106673  1.40087195]]\n"
     ]
    }
   ],
   "source": [
    "print(a+b)  # Broadcasting: If number of dimension doesn't match"
   ]
  },
  {
   "cell_type": "code",
   "execution_count": null,
   "metadata": {
    "colab": {
     "base_uri": "https://localhost:8080/",
     "height": 35
    },
    "colab_type": "code",
    "executionInfo": {
     "elapsed": 16385,
     "status": "ok",
     "timestamp": 1598633712616,
     "user": {
      "displayName": "Han-Yi Wang",
      "photoUrl": "",
      "userId": "18381791688681991544"
     },
     "user_tz": 300
    },
    "id": "RSziKb2H2Gmm",
    "outputId": "7889009c-888c-4209-d026-c7e0b6bacd23"
   },
   "outputs": [
    {
     "name": "stdout",
     "output_type": "stream",
     "text": [
      "[2.64223628 2.36628793 2.94778071 1.35775309 2.16152189]\n"
     ]
    }
   ],
   "source": [
    "print(np.matmul(a,b)) # Matrix multiplication"
   ]
  },
  {
   "cell_type": "code",
   "execution_count": null,
   "metadata": {
    "colab": {
     "base_uri": "https://localhost:8080/",
     "height": 52
    },
    "colab_type": "code",
    "executionInfo": {
     "elapsed": 16377,
     "status": "ok",
     "timestamp": 1598633712620,
     "user": {
      "displayName": "Han-Yi Wang",
      "photoUrl": "",
      "userId": "18381791688681991544"
     },
     "user_tz": 300
    },
    "id": "mD6wA3B_2Fn6",
    "outputId": "c1303563-3d91-4cbb-bdb5-f9e908145323"
   },
   "outputs": [
    {
     "name": "stdout",
     "output_type": "stream",
     "text": [
      "[0.2094905  0.173546   0.66564428 0.26773301]\n",
      "1.3164137838495296 1.3164137838495296 0.6656442778921917 0.17354599608610266\n"
     ]
    }
   ],
   "source": [
    "c = np.random.rand(4,)\n",
    "print(c)\n",
    "print (b.dot(c), c.sum(), c.max(), c.min())  # Some useful functions"
   ]
  },
  {
   "cell_type": "code",
   "execution_count": null,
   "metadata": {
    "colab": {
     "base_uri": "https://localhost:8080/",
     "height": 35
    },
    "colab_type": "code",
    "executionInfo": {
     "elapsed": 16367,
     "status": "ok",
     "timestamp": 1598633712621,
     "user": {
      "displayName": "Han-Yi Wang",
      "photoUrl": "",
      "userId": "18381791688681991544"
     },
     "user_tz": 300
    },
    "id": "QWz4zo0w2NDx",
    "outputId": "1e9e2112-f2ae-4a30-fa17-03aebe5d6caf"
   },
   "outputs": [
    {
     "name": "stdout",
     "output_type": "stream",
     "text": [
      "[0.99693677 0.89361428 0.8481942  0.61181184]\n"
     ]
    }
   ],
   "source": [
    "print(a.max(axis=0))  # Maximum along an axis"
   ]
  },
  {
   "cell_type": "code",
   "execution_count": null,
   "metadata": {
    "colab": {
     "base_uri": "https://localhost:8080/",
     "height": 86
    },
    "colab_type": "code",
    "executionInfo": {
     "elapsed": 18336,
     "status": "ok",
     "timestamp": 1598633714603,
     "user": {
      "displayName": "Han-Yi Wang",
      "photoUrl": "",
      "userId": "18381791688681991544"
     },
     "user_tz": 300
    },
    "id": "5w6E1g7d4YZL",
    "outputId": "c30e0a3d-e0ff-4a48-d875-64fdb747d81a"
   },
   "outputs": [
    {
     "name": "stdout",
     "output_type": "stream",
     "text": [
      "10000000\n",
      "Time taken using self-defined method: 1.1260998249053955\n",
      "10000000\n",
      "Time taken using numpy-based method: 0.011844873428344727\n"
     ]
    }
   ],
   "source": [
    "\"\"\"\n",
    "Compare speed of execution\n",
    "\"\"\"\n",
    "\n",
    "a = [1]*10000000\n",
    "\n",
    "def dot_p(a, b):\n",
    "  #  return dot products\n",
    "  return sum([a[i]*b[i] for i in range(len(a))])\n",
    "\n",
    "import time\n",
    "st = time.time()  # get current time\n",
    "print(dot_p(a, a))  # do dot product using self-defined method \n",
    "print(\"Time taken using self-defined method: {0}\".format(time.time()-st))  # print time taken\n",
    "\n",
    "a = np.array(a)\n",
    "st = time.time()\n",
    "print(a.dot(a))\n",
    "print(\"Time taken using numpy-based method: {0}\".format(time.time()-st))"
   ]
  },
  {
   "cell_type": "markdown",
   "metadata": {
    "colab_type": "text",
    "id": "Dk9CB0LkrgKw"
   },
   "source": [
    "# **Acknowledgements**\n",
    "\n",
    "*    This tutorial is prepared based on materials from  Prafulla Kumar Choubey (Texas A&M)\n",
    "\n"
   ]
  }
 ],
 "metadata": {
  "accelerator": "GPU",
  "colab": {
   "collapsed_sections": [],
   "name": "CSCE633_LPA_Aug28.ipynb",
   "provenance": []
  },
  "kernelspec": {
   "display_name": "Python 3",
   "language": "python",
   "name": "python3"
  },
  "language_info": {
   "codemirror_mode": {
    "name": "ipython",
    "version": 3
   },
   "file_extension": ".py",
   "mimetype": "text/x-python",
   "name": "python",
   "nbconvert_exporter": "python",
   "pygments_lexer": "ipython3",
   "version": "3.7.4"
  }
 },
 "nbformat": 4,
 "nbformat_minor": 1
}
