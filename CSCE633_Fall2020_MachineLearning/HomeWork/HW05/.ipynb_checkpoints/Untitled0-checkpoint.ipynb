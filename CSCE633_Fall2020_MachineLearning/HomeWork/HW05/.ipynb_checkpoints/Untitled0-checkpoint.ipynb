{
 "cells": [
  {
   "cell_type": "code",
   "execution_count": 1,
   "metadata": {
    "colab": {
     "base_uri": "https://localhost:8080/"
    },
    "executionInfo": {
     "elapsed": 232,
     "status": "ok",
     "timestamp": 1604864586301,
     "user": {
      "displayName": "Lu Sun",
      "photoUrl": "",
      "userId": "12220989488268625125"
     },
     "user_tz": 360
    },
    "id": "Ga21j112B_Z9",
    "outputId": "4dc574b5-feb7-431d-c668-f144826c3301"
   },
   "outputs": [
    {
     "ename": "ModuleNotFoundError",
     "evalue": "No module named 'google.colab'",
     "output_type": "error",
     "traceback": [
      "\u001b[1;31m---------------------------------------------------------------------------\u001b[0m",
      "\u001b[1;31mModuleNotFoundError\u001b[0m                       Traceback (most recent call last)",
      "\u001b[1;32m<ipython-input-1-d5df0069828e>\u001b[0m in \u001b[0;36m<module>\u001b[1;34m\u001b[0m\n\u001b[1;32m----> 1\u001b[1;33m \u001b[1;32mfrom\u001b[0m \u001b[0mgoogle\u001b[0m\u001b[1;33m.\u001b[0m\u001b[0mcolab\u001b[0m \u001b[1;32mimport\u001b[0m \u001b[0mdrive\u001b[0m\u001b[1;33m\u001b[0m\u001b[1;33m\u001b[0m\u001b[0m\n\u001b[0m\u001b[0;32m      2\u001b[0m \u001b[0mdrive\u001b[0m\u001b[1;33m.\u001b[0m\u001b[0mmount\u001b[0m\u001b[1;33m(\u001b[0m\u001b[1;34m'/content/drive'\u001b[0m\u001b[1;33m)\u001b[0m\u001b[1;33m\u001b[0m\u001b[1;33m\u001b[0m\u001b[0m\n",
      "\u001b[1;31mModuleNotFoundError\u001b[0m: No module named 'google.colab'"
     ]
    }
   ],
   "source": [
    "from google.colab import drive\n",
    "drive.mount('/content/drive')"
   ]
  },
  {
   "cell_type": "code",
   "execution_count": 2,
   "metadata": {
    "executionInfo": {
     "elapsed": 643,
     "status": "ok",
     "timestamp": 1604865671536,
     "user": {
      "displayName": "Lu Sun",
      "photoUrl": "",
      "userId": "12220989488268625125"
     },
     "user_tz": 360
    },
    "id": "k6cHR0xeaIgg"
   },
   "outputs": [
    {
     "ename": "ModuleNotFoundError",
     "evalue": "No module named 'torch'",
     "output_type": "error",
     "traceback": [
      "\u001b[1;31m---------------------------------------------------------------------------\u001b[0m",
      "\u001b[1;31mModuleNotFoundError\u001b[0m                       Traceback (most recent call last)",
      "\u001b[1;32m<ipython-input-2-3de19ea03b37>\u001b[0m in \u001b[0;36m<module>\u001b[1;34m\u001b[0m\n\u001b[0;32m      1\u001b[0m \u001b[1;32mimport\u001b[0m \u001b[0mpandas\u001b[0m \u001b[1;32mas\u001b[0m \u001b[0mpd\u001b[0m\u001b[1;33m\u001b[0m\u001b[1;33m\u001b[0m\u001b[0m\n\u001b[0;32m      2\u001b[0m \u001b[1;32mfrom\u001b[0m \u001b[0mPIL\u001b[0m \u001b[1;32mimport\u001b[0m \u001b[0mImage\u001b[0m\u001b[1;33m\u001b[0m\u001b[1;33m\u001b[0m\u001b[0m\n\u001b[1;32m----> 3\u001b[1;33m \u001b[1;32mimport\u001b[0m \u001b[0mtorch\u001b[0m\u001b[1;33m\u001b[0m\u001b[1;33m\u001b[0m\u001b[0m\n\u001b[0m\u001b[0;32m      4\u001b[0m \u001b[1;32mfrom\u001b[0m \u001b[0mtorchvision\u001b[0m \u001b[1;32mimport\u001b[0m \u001b[0mdatasets\u001b[0m\u001b[1;33m,\u001b[0m \u001b[0mtransforms\u001b[0m\u001b[1;33m\u001b[0m\u001b[1;33m\u001b[0m\u001b[0m\n\u001b[0;32m      5\u001b[0m \u001b[1;32mimport\u001b[0m \u001b[0mmatplotlib\u001b[0m\u001b[1;33m.\u001b[0m\u001b[0mpyplot\u001b[0m \u001b[1;32mas\u001b[0m \u001b[0mplt\u001b[0m\u001b[1;33m\u001b[0m\u001b[1;33m\u001b[0m\u001b[0m\n",
      "\u001b[1;31mModuleNotFoundError\u001b[0m: No module named 'torch'"
     ]
    }
   ],
   "source": [
    "import pandas as pd\n",
    "from PIL import Image\n",
    "import torch\n",
    "from torchvision import datasets, transforms\n",
    "import matplotlib.pyplot as plt\n",
    "import os\n",
    "import numpy as np\n",
    "from tqdm import tqdm\n",
    "#pd.DataFrame.to_numpy\n",
    "\n",
    "path = '/content/drive/My Drive/2020_FALL/CSCE633/HomeWork/HW05/'\n",
    "train_path = path+'train/'\n",
    "test_path = path+'test/'\n",
    "train_data = pd.read_csv(path+'train.csv')\n",
    "test_data = pd.read_csv(path+'test.csv')\n",
    "\n",
    "\n",
    "\n",
    "#print(train_data)\n",
    "\n",
    "\n",
    "def DataPreprocess(dataset,datapath):\n",
    "  \"\"\"\n",
    "  Input:\n",
    "        dataset : pandas dataframe (filename : str\n",
    "                                  \tgender\t: str\n",
    "                                    age\t    : float\n",
    "                                    location:\tstr\n",
    "                                    covid(label): 1 or 0\n",
    "                                    )\n",
    "  Output:\n",
    "        dataset : pandas dataframe (image    : float (224,224)\n",
    "                                  \tgender\t: -1,0,1 (nan,M,F)\n",
    "                                    age\t    : -1,int (nan,age)\n",
    "                                    country:\t-1,int (nan,country)\n",
    "                                    label   : 1,0\n",
    "                                    )\n",
    "  \"\"\"\n",
    "  sample_size = len(dataset)\n",
    "  \n",
    "  image   = np.zeros((sample_size,224,224),dtype = float)\n",
    "  gender  = np.zeros(sample_size,dtype=int)  \n",
    "  age     = np.zeros(sample_size,dtype=int)   \n",
    "  country = np.zeros(sample_size,dtype=int)\n",
    "  label   = np.zeros(sample_size,dtype=int)   \n",
    "\n",
    "  #filename\tgender\tage\tlocation\tcovid(label)\n",
    "  transform = transforms.Compose([transforms.Resize(256),\n",
    "                                 transforms.CenterCrop(256),\n",
    "                                  transforms.Resize((224,224)),\n",
    "                                 transforms.ToTensor(),\n",
    "                                #transforms.Normalize(mean=[0.5], std=[1]),\n",
    "                                transforms.Grayscale(num_output_channels=1),\n",
    "                                ])\n",
    "  genderMap = {'F':1,'M':0,'nan':-1}\n",
    "\n",
    "  locationMap = {'Spain':0, 'United States':1,'Egypt':2, \n",
    "                'China':3,'Germany':4, 'United Kingdom':5, \n",
    "                'Australia':6,'Philippines':7,'Israel':8, \n",
    "                'Vietnam':9, 'Malaysia':10,'Taiwan':11, \n",
    "                'Japan':12, 'Italy':13,'Portugal':14, \n",
    "                'Argentina':15, 'Sweden':16,'Hong Kong':17, \n",
    "                'Russia':18, 'Malta':19, 'Canada':20, \n",
    "                'Thailand':21, 'Iran':22, 'Brazil':23, \n",
    "                'Greece':24, 'Saudi Arabia':25, 'Turkey':26, \n",
    "                'Austria':27, 'Qatar':28, 'Afghanistan':29,\n",
    "               'Colombia':30,'Hungary':31,'Denmark':32,\n",
    "               'Jordan':33,'nan':-1}\n",
    "\n",
    "     \n",
    "  for i in tqdm(range(sample_size)):\n",
    "    #print(i)\n",
    "    #filename\n",
    "    path_image = datapath+dataset['filename'][i]\n",
    "    if os.path.isfile(path_image):\n",
    "      img = Image.open(path_image).convert(\"RGB\")\n",
    "      img = transform(img)\n",
    "      image[i] = img.numpy()  \n",
    "      # if i %30==0:\n",
    "      #   print(dataset['filename'][i])\n",
    "      #   print(img)\n",
    "      #   plt.imshow(transforms.ToPILImage()(img))\n",
    "      #   plt.show()\n",
    "    else:\n",
    "      print('False:{} can not find'.format(path_image))\n",
    "      \n",
    "    #gender\n",
    "    gender[i] = genderMap['{}'.format(dataset['gender'][i])]\n",
    "\n",
    "    #age\n",
    "    if str(dataset['age'][i]) =='nan':\n",
    "      age[i] = int(-1)\n",
    "    else:\n",
    "      age[i] = int(dataset['age'][i])\n",
    "\n",
    "    #location\n",
    "    if str(dataset['location'][i]) == 'nan':\n",
    "      #print('nan')\n",
    "      local_split_tep = int(-1)\n",
    "    else:\n",
    "      local_split = dataset['location'][i].split(', ')\n",
    "      local_split_tep = local_split[-1]\n",
    "      #print(local_split_tep)\n",
    "      if local_split_tep[-1] == ' ':\n",
    "        local_split_tep = local_split_tep[0:-1]\n",
    "        #print(local_split_tep)\n",
    "      local_split_tep = int(locationMap[local_split_tep])\n",
    "    #print(local_split_tep)\n",
    "    country[i] = local_split_tep\n",
    "\n",
    "    #label\n",
    "    label[i] =  int(dataset['covid(label)'][i])\n",
    "  \n",
    "  #construct new pandas dataframe\n",
    "  #dataset_new = pd.DataFrame()\n",
    "  #dataset_new['image']   = image.reshape(-1,224*224).tolist()\n",
    "  #dataset_new['gender']  = gender\n",
    "  #dataset_new['age']     = age\n",
    "  #dataset_new['country'] = country\n",
    "  #dataset_new['label']   = label\n",
    "\n",
    "  return image#dataset_new"
   ]
  },
  {
   "cell_type": "code",
   "execution_count": 41,
   "metadata": {
    "colab": {
     "base_uri": "https://localhost:8080/"
    },
    "executionInfo": {
     "elapsed": 11133,
     "status": "ok",
     "timestamp": 1604865684845,
     "user": {
      "displayName": "Lu Sun",
      "photoUrl": "",
      "userId": "12220989488268625125"
     },
     "user_tz": 360
    },
    "id": "0NWUvLVElDxN",
    "outputId": "e605ec0c-c86a-4e38-84aa-96599206d549"
   },
   "outputs": [
    {
     "name": "stderr",
     "output_type": "stream",
     "text": [
      "100%|██████████| 250/250 [00:10<00:00, 22.96it/s]\n"
     ]
    }
   ],
   "source": [
    "train_dataset = DataPreprocess(train_data,train_path)"
   ]
  },
  {
   "cell_type": "code",
   "execution_count": 55,
   "metadata": {
    "colab": {
     "base_uri": "https://localhost:8080/",
     "height": 130
    },
    "executionInfo": {
     "elapsed": 330,
     "status": "error",
     "timestamp": 1604866090481,
     "user": {
      "displayName": "Lu Sun",
      "photoUrl": "",
      "userId": "12220989488268625125"
     },
     "user_tz": 360
    },
    "id": "jhGnrtCYdRUV",
    "outputId": "ab90078f-9289-4a47-8c77-a1decb2c01db"
   },
   "outputs": [
    {
     "ename": "SyntaxError",
     "evalue": "ignored",
     "output_type": "error",
     "traceback": [
      "\u001b[0;36m  File \u001b[0;32m\"<ipython-input-55-f4dfd961e88d>\"\u001b[0;36m, line \u001b[0;32m1\u001b[0m\n\u001b[0;31m    $ jupyter notebook --generate-config\u001b[0m\n\u001b[0m    ^\u001b[0m\n\u001b[0;31mSyntaxError\u001b[0m\u001b[0;31m:\u001b[0m invalid syntax\n"
     ]
    }
   ],
   "source": [
    "$ jupyter notebook --generate-config\n",
    "c.NotebookApp.iopub_data_rate_limit\n",
    "c.NotebookApp.iopub_data_rate_limit = 10000000"
   ]
  },
  {
   "cell_type": "code",
   "execution_count": 48,
   "metadata": {
    "colab": {
     "base_uri": "https://localhost:8080/"
    },
    "executionInfo": {
     "elapsed": 17812,
     "status": "ok",
     "timestamp": 1604865752497,
     "user": {
      "displayName": "Lu Sun",
      "photoUrl": "",
      "userId": "12220989488268625125"
     },
     "user_tz": 360
    },
    "id": "6uC1SyzuS-fO",
    "outputId": "386b3243-1bc0-4b33-f193-9116532846db"
   },
   "outputs": [
    {
     "name": "stderr",
     "output_type": "stream",
     "text": [
      "IOPub data rate exceeded.\n",
      "The notebook server will temporarily stop sending output\n",
      "to the client in order to avoid crashing it.\n",
      "To change this limit, set the config variable\n",
      "`--NotebookApp.iopub_data_rate_limit`.\n",
      "\n",
      "Current values:\n",
      "NotebookApp.iopub_data_rate_limit=1000000.0 (bytes/sec)\n",
      "NotebookApp.rate_limit_window=3.0 (secs)\n",
      "\n"
     ]
    }
   ],
   "source": [
    "tryhaha = train_dataset.tolist()\n",
    "print(tryhaha)"
   ]
  },
  {
   "cell_type": "code",
   "execution_count": 31,
   "metadata": {
    "colab": {
     "base_uri": "https://localhost:8080/"
    },
    "executionInfo": {
     "elapsed": 256,
     "status": "ok",
     "timestamp": 1604865471396,
     "user": {
      "displayName": "Lu Sun",
      "photoUrl": "",
      "userId": "12220989488268625125"
     },
     "user_tz": 360
    },
    "id": "ufvbdJrgWt_a",
    "outputId": "9dfcb794-e79f-413a-87fe-f758f9d83faa"
   },
   "outputs": [
    {
     "data": {
      "text/plain": [
       "(250,)"
      ]
     },
     "execution_count": 31,
     "metadata": {
      "tags": []
     },
     "output_type": "execute_result"
    }
   ],
   "source": [
    "train_dataset['age'].to_numpy().shape"
   ]
  },
  {
   "cell_type": "code",
   "execution_count": 36,
   "metadata": {
    "executionInfo": {
     "elapsed": 200,
     "status": "ok",
     "timestamp": 1604865516698,
     "user": {
      "displayName": "Lu Sun",
      "photoUrl": "",
      "userId": "12220989488268625125"
     },
     "user_tz": 360
    },
    "id": "nRkRXNioYwKb"
   },
   "outputs": [],
   "source": [
    "haha = np.array(train_dataset['image'])"
   ]
  },
  {
   "cell_type": "code",
   "execution_count": 37,
   "metadata": {
    "executionInfo": {
     "elapsed": 33534,
     "status": "ok",
     "timestamp": 1604865553042,
     "user": {
      "displayName": "Lu Sun",
      "photoUrl": "",
      "userId": "12220989488268625125"
     },
     "user_tz": 360
    },
    "id": "HgqASXTAbK20"
   },
   "outputs": [],
   "source": [
    "haha"
   ]
  },
  {
   "cell_type": "code",
   "execution_count": null,
   "metadata": {
    "id": "LOoW2vHTJU94"
   },
   "outputs": [],
   "source": [
    "test_dataset = DataPreprocess(test_data,test_path)"
   ]
  }
 ],
 "metadata": {
  "colab": {
   "authorship_tag": "ABX9TyPA91BT97NVmjwed49TFiqH",
   "name": "Untitled0.ipynb",
   "provenance": []
  },
  "kernelspec": {
   "display_name": "Python 3",
   "language": "python",
   "name": "python3"
  },
  "language_info": {
   "codemirror_mode": {
    "name": "ipython",
    "version": 3
   },
   "file_extension": ".py",
   "mimetype": "text/x-python",
   "name": "python",
   "nbconvert_exporter": "python",
   "pygments_lexer": "ipython3",
   "version": "3.7.4"
  }
 },
 "nbformat": 4,
 "nbformat_minor": 1
}
